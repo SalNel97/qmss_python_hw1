{
  "nbformat": 4,
  "nbformat_minor": 0,
  "metadata": {
    "colab": {
      "name": "sne2114_HW1.ipynb",
      "provenance": [],
      "collapsed_sections": [],
      "authorship_tag": "ABX9TyOA43K1C3x793CUhTDhXhl/",
      "include_colab_link": true
    },
    "kernelspec": {
      "name": "python3",
      "display_name": "Python 3"
    },
    "language_info": {
      "name": "python"
    }
  },
  "cells": [
    {
      "cell_type": "markdown",
      "metadata": {
        "id": "view-in-github",
        "colab_type": "text"
      },
      "source": [
        "<a href=\"https://colab.research.google.com/github/SalNel97/qmss_python_hw1/blob/main/sne2114_HW1.ipynb\" target=\"_parent\"><img src=\"https://colab.research.google.com/assets/colab-badge.svg\" alt=\"Open In Colab\"/></a>"
      ]
    },
    {
      "cell_type": "markdown",
      "metadata": {
        "id": "_jIXJNuMHFmH"
      },
      "source": [
        "**QMSS S5073**\n",
        "## ***Homework 1***\n",
        "**Salah El-Sadek (sne2114)**"
      ]
    },
    {
      "cell_type": "markdown",
      "metadata": {
        "id": "5ITjgq8wL3bB"
      },
      "source": [
        "[Here](https://vincentarelbundock.github.io/Rdatasets/doc/datasets/mtcars.html) is a link to find descriptions for the variables in our dataset [mtcars](https://vincentarelbundock.github.io/Rdatasets/csv/datasets/mtcars.csv).\n"
      ]
    },
    {
      "cell_type": "markdown",
      "metadata": {
        "id": "FB5fAHZlN1Pp"
      },
      "source": [
        "## **Question 1**"
      ]
    },
    {
      "cell_type": "code",
      "metadata": {
        "colab": {
          "base_uri": "https://localhost:8080/",
          "height": 162
        },
        "id": "vHOGD1xzGdHL",
        "outputId": "06a42f6e-7fb6-4703-a625-bfcbb806f9a1"
      },
      "source": [
        "dfvdfvfdv"
      ],
      "execution_count": 1,
      "outputs": [
        {
          "output_type": "error",
          "ename": "NameError",
          "evalue": "ignored",
          "traceback": [
            "\u001b[0;31m---------------------------------------------------------------------------\u001b[0m",
            "\u001b[0;31mNameError\u001b[0m                                 Traceback (most recent call last)",
            "\u001b[0;32m<ipython-input-1-68a6313daa88>\u001b[0m in \u001b[0;36m<module>\u001b[0;34m()\u001b[0m\n\u001b[0;32m----> 1\u001b[0;31m \u001b[0mdfvdfvfdv\u001b[0m\u001b[0;34m\u001b[0m\u001b[0;34m\u001b[0m\u001b[0m\n\u001b[0m",
            "\u001b[0;31mNameError\u001b[0m: name 'dfvdfvfdv' is not defined"
          ]
        }
      ]
    },
    {
      "cell_type": "markdown",
      "metadata": {
        "id": "3UI5RLH2OVjW"
      },
      "source": [
        "v bvgbgbgb"
      ]
    },
    {
      "cell_type": "markdown",
      "metadata": {
        "id": "G1IliMNvHJxA"
      },
      "source": [
        "## **Question 2**"
      ]
    },
    {
      "cell_type": "code",
      "metadata": {
        "id": "VdB3ghvrOeME"
      },
      "source": [
        ""
      ],
      "execution_count": 1,
      "outputs": []
    }
  ]
}